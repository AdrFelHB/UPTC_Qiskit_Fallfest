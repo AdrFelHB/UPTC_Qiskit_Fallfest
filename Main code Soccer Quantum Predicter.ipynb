{
 "cells": [
  {
   "cell_type": "code",
   "execution_count": null,
   "id": "a96d5f78",
   "metadata": {},
   "outputs": [],
   "source": [
    "from qiskit import *\n",
    "from qiskit import QuantumCircuit, assemble, Aer\n",
    "from qiskit.visualization import plot_histogram, plot_bloch_vector\n",
    "from qiskit.tools.visualization import plot_bloch_multivector\n",
    "from pandas import read_csv\n",
    "from math import sqrt, pi\n",
    "import numpy as np\n",
    "import requests\n",
    "import io\n",
    "\n",
    "\n",
    "#   Load dataframe file\n",
    "\n",
    "# The imported file was made using data of 2018 FIFA World Cup taken from statsbombspy library\n",
    "url = \"https://raw.githubusercontent.com/AdrFelHB/UPTC_Qiskit_Fallfest/main/teams_coef.csv\"\n",
    "dataframe_file = requests.get(url).content\n",
    "\n",
    "df = read_csv(io.StringIO(dataframe_file.decode('utf-8')),index_col=False)\n",
    "\n",
    "#   Put columns of dataframe in separated list\n",
    "Teams = list(df.Team)\n",
    "Scores = list(df.coef)\n",
    "\n",
    "\n",
    "#   Command Line Interface\n",
    " \n",
    "print(\"Welcome to Quantum Soccer Predicter\\n\")\n",
    "print(\"Please choose two teams from the following list and ¡get ready to bet!\\n\\n\")\n",
    "\n",
    "for line in range(0,len(Teams)):\n",
    "        string= ''.join(str(line) + '.\\t'+ Teams[line])\n",
    "        print(string)\n",
    "\n",
    "#    Ask user to enter teams which it is interested in\n",
    "\n",
    "Home =  int (input(\"Enter the home team index: \"))\n",
    "Away =  int (input(\"Enter the away team index: \"))\n",
    "\n",
    "print(f\"\\nYou Chose:\\nHome: {Teams[Home]} \\t&\\t Away: {Teams[Away]}\")\n",
    "\n",
    "#     Ask for advantages\n",
    "\n",
    "advantage_team = int(input(f\"Weather is going to benefit any team\\n1. {Teams[Home]}\\t2. {Teams[Away]}\\t3. no teams is benefited\\n\"))\n",
    "if advantage_team == 1:\n",
    "  rotation_1 = pi/16\n",
    "elif advantage_team == 2:\n",
    "  rotation_1 = pi\n",
    "elif advantage_team == 3:\n",
    "  rotation_1 = 0\n",
    "\n",
    "#   Compute coefficients for both teams\n",
    "\n",
    "#   rate for Home team\n",
    "rate_home = Scores[Home]\n",
    "\n",
    "#   rate for Away team\n",
    "rate_away = Scores[Away]\n",
    "\n",
    "#   computation of normalized coefficients\n",
    "coefficient_home = (rate_home)/sqrt((rate_home**2) + (rate_away**2))\n",
    "coefficient_away = (rate_away)/sqrt((rate_home**2) + (rate_away**2))\n",
    "\n",
    "\n",
    "initial_state = [coefficient_away, coefficient_home]#define el esta. inicial como |q_0>\n",
    "\n",
    "\n",
    "qr = QuantumRegister(1)  \n",
    "cr = ClassicalRegister(1)\n",
    "qc = QuantumCircuit(qr,cr)\n",
    "\n",
    "# Declare initial_state as |q_0>\n",
    "\n",
    "qc.initialize(initial_state, 0 )\n",
    "simulator = Aer.get_backend('statevector_simulator')\n",
    "result = execute(qc, backend = simulator).result()\n",
    "statevector = result.get_statevector()"
   ]
  },
  {
   "cell_type": "code",
   "execution_count": null,
   "id": "7d2f7ee1",
   "metadata": {},
   "outputs": [],
   "source": [
    "%matplotlib inline\n",
    "qc.draw(initial_state=True, cregbundle=False,output='mpl')\n",
    "\n",
    "plot_bloch_multivector (statevector)"
   ]
  },
  {
   "cell_type": "code",
   "execution_count": null,
   "id": "5f428230",
   "metadata": {},
   "outputs": [],
   "source": [
    "qc.u(rotation_1, 0, 0, 0)\n",
    "\n",
    "qc.draw(initial_state=True, cregbundle= False,output='mpl')"
   ]
  },
  {
   "cell_type": "code",
   "execution_count": null,
   "id": "b01a623c",
   "metadata": {},
   "outputs": [],
   "source": [
    "simulator = Aer.get_backend('statevector_simulator')\n",
    "\n",
    "result = execute(qc, backend = simulator).result()\n",
    "\n",
    "statevector = result.get_statevector()\n",
    "plot_bloch_multivector (statevector)"
   ]
  },
  {
   "cell_type": "code",
   "execution_count": null,
   "id": "ce4429d2",
   "metadata": {},
   "outputs": [],
   "source": [
    "\n",
    "qc.measure(qr,cr)\n",
    "\n",
    "qc.draw(initial_state=True, cregbundle= False,output='mpl')"
   ]
  },
  {
   "cell_type": "code",
   "execution_count": null,
   "id": "9d797ff6",
   "metadata": {},
   "outputs": [],
   "source": [
    "simulator = Aer.get_backend('qasm_simulator')\n",
    "\n",
    "result= execute(qc,backend = simulator, shots = 1024).result()\n",
    "\n",
    "plot_histogram(result.get_counts(qc))"
   ]
  },
  {
   "cell_type": "code",
   "execution_count": null,
   "id": "834e55a5",
   "metadata": {},
   "outputs": [],
   "source": [
    "qc.u(pi, 0, 0, 0)\n",
    "\n",
    "qc.draw(initial_state=True, cregbundle= False,output='mpl')"
   ]
  },
  {
   "cell_type": "code",
   "execution_count": null,
   "id": "12bba6a2",
   "metadata": {},
   "outputs": [],
   "source": [
    "qc.measure(qr,cr)\n",
    "\n",
    "qc.draw(initial_state=True, cregbundle= False,output='mpl')"
   ]
  },
  {
   "cell_type": "code",
   "execution_count": null,
   "id": "c8e27a01",
   "metadata": {},
   "outputs": [],
   "source": [
    "simulator = Aer.get_backend('qasm_simulator')\n",
    "\n",
    "result = execute(qc,backend = simulator, shots = 1024).result()\n",
    "\n",
    "plot_histogram(result.get_counts(qc))"
   ]
  },
  {
   "cell_type": "code",
   "execution_count": null,
   "id": "3d2567c6",
   "metadata": {},
   "outputs": [],
   "source": [
    "\n",
    "# final part\n",
    "\n",
    "probability_home =result.get_counts(qc)['1']/1000\n",
    "probability_away = result.get_counts(qc)['0']/1000\n",
    "\n",
    "\n",
    "\n",
    "# defining c as one probability divide in the other one\n",
    "\n",
    "c = probability_away/probability_home\n",
    "print(c)\n",
    "\n",
    "if (c > 0.9) and (c < 1.1):\n",
    "  print(f\"There is tie between {Teams[Home]} and {Teams[Away]}\")\n",
    "elif (c < 0.9):\n",
    "  if (c > 0.7) and (c < 0.9):\n",
    "    print(f\"team winer is {Teams[Away]} for 1 goal difference\")\n",
    "  elif  (c > 0.5) and (c < 0.7):\n",
    "    print(f\"team winer is {Teams[Away]} for 2 goal difference\")\n",
    "  elif  (c > 0) and (c < 0.5):\n",
    "    print(f\"team winer is {Teams[Away]} for more than 3 goal difference\")\n",
    "elif (c > 1.1):\n",
    "  if (c > 1.1) and (c < 1.3):\n",
    "    print(f\"team winer is {Teams[Home]} for 1 goal difference\")\n",
    "  elif (c > 1.3) and (c < 1.5):\n",
    "    print(f\"team winer is {Teams[Home]} for 2 goal difference\")\n",
    "  elif (c > 1.5):\n",
    "    print(f\"team winer is {Teams[Home]} for more than 3 goal difference\")"
   ]
  },
  {
   "cell_type": "code",
   "execution_count": null,
   "id": "9408ead7",
   "metadata": {},
   "outputs": [],
   "source": []
  }
 ],
 "metadata": {
  "kernelspec": {
   "display_name": "Python 3 (ipykernel)",
   "language": "python",
   "name": "python3"
  },
  "language_info": {
   "codemirror_mode": {
    "name": "ipython",
    "version": 3
   },
   "file_extension": ".py",
   "mimetype": "text/x-python",
   "name": "python",
   "nbconvert_exporter": "python",
   "pygments_lexer": "ipython3",
   "version": "3.9.2"
  }
 },
 "nbformat": 4,
 "nbformat_minor": 5
}
