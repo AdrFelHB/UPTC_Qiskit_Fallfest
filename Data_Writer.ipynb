{
 "cells": [
  {
   "cell_type": "code",
   "execution_count": 1,
   "id": "04f31c35",
   "metadata": {},
   "outputs": [],
   "source": [
    "from statsbombpy import sb"
   ]
  },
  {
   "cell_type": "code",
   "execution_count": 2,
   "id": "53eb9698",
   "metadata": {},
   "outputs": [
    {
     "name": "stdout",
     "output_type": "stream",
     "text": [
      "credentials were not supplied. open data access only\n"
     ]
    }
   ],
   "source": [
    "WorldCup = sb.matches(competition_id=43,season_id=3)"
   ]
  },
  {
   "cell_type": "code",
   "execution_count": 3,
   "id": "efa4c597",
   "metadata": {},
   "outputs": [],
   "source": [
    "Home = []\n",
    "Away = []\n",
    "Match = []\n",
    "\n",
    "for k in range(0,len(WorldCup.home_team)):\n",
    "    \n",
    "    Home.append([WorldCup.home_team[k],WorldCup.home_score[k]])\n",
    "    Away.append([WorldCup.away_team[k],WorldCup.away_score[k]])\n",
    "\n",
    "for k in range(0,len(Home)):\n",
    "    Match.append([ Home[k][0], Away[k][0], Home[k][1], Away[k][1], Away[k][1]+Home[k][1] ])  "
   ]
  },
  {
   "cell_type": "code",
   "execution_count": 4,
   "id": "bf05c2bb",
   "metadata": {},
   "outputs": [],
   "source": [
    "file = open(\"CopaMundo.csv\",'w')\n",
    "\n",
    "#   Header\n",
    "file.write(\"home_team,away_team,home_score,away_score,total_goals\\n\")\n",
    "\n",
    "for k in range(0,len(Match)):\n",
    "    for j in range(0,5):\n",
    "        \n",
    "        file.write(str(Match[k][j]))\n",
    "        file.write(',')\n",
    "    file.write('\\n')\n",
    "\n",
    "file.close()"
   ]
  }
 ],
 "metadata": {
  "kernelspec": {
   "display_name": "Python 3 (ipykernel)",
   "language": "python",
   "name": "python3"
  },
  "language_info": {
   "codemirror_mode": {
    "name": "ipython",
    "version": 3
   },
   "file_extension": ".py",
   "mimetype": "text/x-python",
   "name": "python",
   "nbconvert_exporter": "python",
   "pygments_lexer": "ipython3",
   "version": "3.9.2"
  }
 },
 "nbformat": 4,
 "nbformat_minor": 5
}
